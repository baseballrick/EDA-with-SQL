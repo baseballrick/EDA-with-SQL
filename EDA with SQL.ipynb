{
    "cells": [
        {
            "cell_type": "markdown",
            "metadata": {},
            "source": "<center>\n    <img src=\"https://s3-api.us-geo.objectstorage.softlayer.net/cf-courses-data/CognitiveClass/Logos/organization_logo/organization_logo.png\" width=\"1000\" alt=\"cognitiveclass.ai logo\"  />\n</center>\n\n# Assignment: Exploratory Data Analysis with SQL\n\nEstimated time needed: 60 minutes\n\n# Introduction\n\nUsing this R notebook you will perform exploratory data analysis tasks using SQL queries with the RODBC R package. You will not be graded here, but you will be asked to present some of these results in your final assignment, where you will be graded on the accuracy of your results as well as the content of your SQL queries.\n"
        },
        {
            "cell_type": "markdown",
            "metadata": {},
            "source": "### Establish your Db2 connection\n\nLoad the 'RODBC' library, and use the 'odbcConnect( )' function as you did in the previous lab to establish the connection to your Db2 assets.\\\nProvided you successfully loaded your data into the tables in that lab, you are now ready to start running SQL queries using the RODBC library as you did in Course 3.\n"
        },
        {
            "cell_type": "code",
            "execution_count": 11,
            "metadata": {},
            "outputs": [
                {
                    "name": "stderr",
                    "output_type": "stream",
                    "text": "Updating HTML index of packages in '.Library'\nMaking 'packages.html' ... done\nWarning message in odbcDriverConnect(conn_path, believeNRows = FALSE):\n\u201c[RODBC] ERROR: state 01000, code 0, message [unixODBC][Driver Manager]Can't open lib 'IBM DB2 ODBC Driver' : file not found\u201dWarning message in odbcDriverConnect(conn_path, believeNRows = FALSE):\n\u201cODBC connection failed\u201d"
                },
                {
                    "data": {
                        "text/html": "-1",
                        "text/latex": "-1",
                        "text/markdown": "-1",
                        "text/plain": "[1] -1"
                    },
                    "metadata": {},
                    "output_type": "display_data"
                }
            ],
            "source": "# provide your solution here\ninstall.packages(\"RODBC\")\nlibrary(RODBC)\ndsn_driver <- \"{IBM DB2 ODBC Driver}\"\ndsn_database <- \"bludb\"\ndsn_hostname <- \"ba99a9e6-d59e-4883-8fc0-d6a8c9f7a08f.c1ogj3sd0tgtu0lqde00.databases.appdomain.cloud\"\ndsn_port <- \"31321\"\ndsn_protocol <- \"TCPIP\"\ndsn_uid <- \"ktk41199\"\ndsn_pwd <- \"snsWHHtXRd6lwTQw\" \ndsn_security <- \"ssl\"\n\n# Create a connection string and connect to the database\nconn_path <- paste(\"DRIVER=\",dsn_driver,\n                   \";DATABASE=\",dsn_database,\n                   \";HOSTNAME=\",dsn_hostname,\n                   \";PORT=\",dsn_port,\n                   \";PROTOCOL=\",dsn_protocol,\n                   \";UID=\",dsn_uid,\n                   \";PWD=\",dsn_pwd,\n                   \";SECURITY=\",dsn_security,        \n                   sep=\"\")\nconn <- odbcDriverConnect(conn_path, believeNRows=FALSE)\nconn"
        },
        {
            "cell_type": "markdown",
            "metadata": {},
            "source": "## Task 1 - Record Count\n\n#### Determine how many records are in the seoul_bike_sharing dataset.\n"
        },
        {
            "cell_type": "markdown",
            "metadata": {},
            "source": "### Solution 1\n"
        },
        {
            "cell_type": "code",
            "execution_count": 2,
            "metadata": {
                "scrolled": true
            },
            "outputs": [],
            "source": "# provide your solution here"
        },
        {
            "cell_type": "markdown",
            "metadata": {},
            "source": "## Task 2 - Operational Hours\n\n#### Determine how many hours had non-zero rented bike count.\n"
        },
        {
            "cell_type": "markdown",
            "metadata": {},
            "source": "### Solution 2\n"
        },
        {
            "cell_type": "code",
            "execution_count": 3,
            "metadata": {
                "scrolled": true
            },
            "outputs": [],
            "source": "# provide your solution here"
        },
        {
            "cell_type": "markdown",
            "metadata": {},
            "source": "## Task 3 - Weather Outlook\n\n#### Query the the weather forecast for Seoul over the next 3 hours.\n\nRecall that the records in the CITIES_WEATHER_FORECAST dataset are 3 hours apart, so we just need the first record from the query.\n"
        },
        {
            "cell_type": "markdown",
            "metadata": {},
            "source": "### Solution 3\n"
        },
        {
            "cell_type": "code",
            "execution_count": 4,
            "metadata": {},
            "outputs": [],
            "source": "# provide your solution here"
        },
        {
            "cell_type": "markdown",
            "metadata": {},
            "source": "## Task 4 - Seasons\n\n#### Find which seasons are included in the seoul bike sharing dataset.\n"
        },
        {
            "cell_type": "markdown",
            "metadata": {},
            "source": "### Solution 4\n"
        },
        {
            "cell_type": "code",
            "execution_count": 5,
            "metadata": {},
            "outputs": [],
            "source": "# provide your solution here"
        },
        {
            "cell_type": "markdown",
            "metadata": {},
            "source": "## Task 5 - Date Range\n\n#### Find the first and last dates in the Seoul Bike Sharing dataset.\n"
        },
        {
            "cell_type": "markdown",
            "metadata": {},
            "source": "### Solution 5\n"
        },
        {
            "cell_type": "code",
            "execution_count": 6,
            "metadata": {},
            "outputs": [],
            "source": "# provide your solution here"
        },
        {
            "cell_type": "markdown",
            "metadata": {},
            "source": "## Task 6 - Subquery - 'all-time high'\n\n#### determine which date and hour had the most bike rentals.\n"
        },
        {
            "cell_type": "markdown",
            "metadata": {},
            "source": "### Solution 6\n"
        },
        {
            "cell_type": "code",
            "execution_count": 7,
            "metadata": {},
            "outputs": [],
            "source": "# provide your solution here"
        },
        {
            "cell_type": "markdown",
            "metadata": {},
            "source": "## Task 7 - Hourly popularity and temperature by season\n\n#### Determine the average hourly temperature and the average number of bike rentals per hour over each season. List the top ten results by average bike count.\n"
        },
        {
            "cell_type": "markdown",
            "metadata": {},
            "source": "### Solution 7\n"
        },
        {
            "cell_type": "code",
            "execution_count": 8,
            "metadata": {},
            "outputs": [],
            "source": "# provide your solution here"
        },
        {
            "cell_type": "markdown",
            "metadata": {},
            "source": "## Task 8 - Rental Seasonality\n\n#### Find the average hourly bike count during each season.\n\nAlso include the minimum, maximum, and standard deviation of the hourly bike count for each season.\n"
        },
        {
            "cell_type": "markdown",
            "metadata": {},
            "source": "### Solution 8\n"
        },
        {
            "cell_type": "code",
            "execution_count": 9,
            "metadata": {},
            "outputs": [],
            "source": "# provide your solution here"
        },
        {
            "cell_type": "markdown",
            "metadata": {},
            "source": "Let's explore a bit and see what might be the most significant contributing factors in terms of the provided data.\n"
        },
        {
            "cell_type": "markdown",
            "metadata": {},
            "source": "## Task 9 - Weather Seasonality\n\n#### Consider the weather over each season. On average, what were the TEMPERATURE, HUMIDITY, WIND_SPEED, VISIBILITY, DEW_POINT_TEMPERATURE, SOLAR_RADIATION, RAINFALL, and SNOWFALL per season?\n\nInclude the average bike count as well , and rank the results by average bike count so you can see if it is correlated with the weather at all.\n"
        },
        {
            "cell_type": "markdown",
            "metadata": {},
            "source": "### Solution 9\n"
        },
        {
            "cell_type": "code",
            "execution_count": 10,
            "metadata": {},
            "outputs": [
                {
                    "ename": "ERROR",
                    "evalue": "Error in parse(text = x, srcfile = src): <text>:3:0: unexpected end of input\n1: query <- \n2: # provide your solution here\n  ^\n",
                    "output_type": "error",
                    "traceback": [
                        "Error in parse(text = x, srcfile = src): <text>:3:0: unexpected end of input\n1: query <- \n2: # provide your solution here\n  ^\nTraceback:\n"
                    ]
                }
            ],
            "source": "query <- \n# provide your solution here"
        },
        {
            "cell_type": "markdown",
            "metadata": {},
            "source": "## Task 10 - Total Bike Count and City Info for Seoul\n\n#### Use an implicit join across the WORLD_CITIES and the BIKE_SHARING_SYSTEMS tables to determine the total number of bikes avaialble in Seoul, plus the following city information about Seoul: CITY, COUNTRY, LAT, LON, POPULATION, in a single view.\n\nNotice that in this case, the CITY column will work for the WORLD_CITIES table, but in general you would have to use the CITY_ASCII column.\n"
        },
        {
            "cell_type": "markdown",
            "metadata": {},
            "source": "### Solution 10\n"
        },
        {
            "cell_type": "code",
            "execution_count": null,
            "metadata": {},
            "outputs": [],
            "source": "# provide your solution here"
        },
        {
            "cell_type": "markdown",
            "metadata": {},
            "source": "## Task 11 - Find all city names and coordinates with comparable bike scale to Seoul's bike sharing system\n\n#### Find all cities with total bike counts between 15000 and 20000. Return the city and country names, plus the coordinates (LAT, LNG), population, and number of bicycles for each city.\n\nLater we will ask you to visualize these similar cities on leaflet, with some weather data.\n"
        },
        {
            "cell_type": "markdown",
            "metadata": {},
            "source": "### Solution 11\n"
        },
        {
            "cell_type": "code",
            "execution_count": null,
            "metadata": {},
            "outputs": [],
            "source": "# provide your solution here"
        },
        {
            "cell_type": "code",
            "execution_count": null,
            "metadata": {},
            "outputs": [],
            "source": "close(conn)"
        },
        {
            "cell_type": "markdown",
            "metadata": {},
            "source": "## Author(s)\n\n<h4> Jeff Grossman </h4>\n\n## Contributor(s)\n\n<h4> Yan Luo, Rav Ahuja </h4>\n\n## Change log\n\n| Date       | Version | Changed by    | Change Description                  |\n| ---------- | ------- | ------------- | ----------------------------------- |\n| 2021-05-04 | 0.2     | Jeff Grossman | Finalize                            |\n| 2021-04-22 | 0.2     | Jeff Grossman | Update as per peer review           |\n| 2021-04-10 | 0.2     | Jeff Grossman | Add data sources and implicit joins |\n| 2021-04-05 | 0.1     | Jeff Grossman | Start content creation              |\n\n## <h3 align=\"center\"> \u00a9 IBM Corporation 2021. All rights reserved. <h3/>\n"
        },
        {
            "cell_type": "code",
            "execution_count": null,
            "metadata": {},
            "outputs": [],
            "source": ""
        }
    ],
    "metadata": {
        "kernelspec": {
            "display_name": "R 3.6",
            "language": "R",
            "name": "r-3.6"
        },
        "language_info": {
            "codemirror_mode": "r",
            "file_extension": ".r",
            "mimetype": "text/x-r-source",
            "name": "R",
            "pygments_lexer": "r",
            "version": "3.6.1"
        },
        "widgets": {
            "state": {},
            "version": "1.1.2"
        }
    },
    "nbformat": 4,
    "nbformat_minor": 4
}